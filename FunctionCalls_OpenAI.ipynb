{
  "nbformat": 4,
  "nbformat_minor": 0,
  "metadata": {
    "colab": {
      "provenance": []
    },
    "kernelspec": {
      "name": "python3",
      "display_name": "Python 3"
    },
    "language_info": {
      "name": "python"
    }
  },
  "cells": [
    {
      "cell_type": "markdown",
      "source": [
        "#Function calls API example Colab usecase of OpenAI.\n",
        "\n",
        "Implemented a function that lets someone use OpenAI's features directly from an online platform called Google Colab. Think of it as creating a button in an online document that, when pressed, talks to OpenAI and gets a response. The goal is to show how this button works with a practical example."
      ],
      "metadata": {
        "id": "whDOk9l8px3B"
      }
    },
    {
      "cell_type": "code",
      "execution_count": null,
      "metadata": {
        "colab": {
          "base_uri": "https://localhost:8080/"
        },
        "id": "TuXMKzhUfJP2",
        "outputId": "74a6e820-c066-43dd-f2f8-1fc0a489dcbd"
      },
      "outputs": [
        {
          "output_type": "stream",
          "name": "stdout",
          "text": [
            "Requirement already satisfied: requests in /usr/local/lib/python3.10/dist-packages (2.31.0)\n",
            "Requirement already satisfied: charset-normalizer<4,>=2 in /usr/local/lib/python3.10/dist-packages (from requests) (3.3.0)\n",
            "Requirement already satisfied: idna<4,>=2.5 in /usr/local/lib/python3.10/dist-packages (from requests) (3.4)\n",
            "Requirement already satisfied: urllib3<3,>=1.21.1 in /usr/local/lib/python3.10/dist-packages (from requests) (2.0.7)\n",
            "Requirement already satisfied: certifi>=2017.4.17 in /usr/local/lib/python3.10/dist-packages (from requests) (2023.7.22)\n"
          ]
        }
      ],
      "source": [
        "!pip install requests"
      ]
    },
    {
      "cell_type": "code",
      "source": [
        "import requests\n",
        "import json\n",
        "\n",
        "def call_openai_api(prompt, engine='davinci', max_tokens=150):\n",
        "    # Endpoint URL (You can change the engine as per your need)\n",
        "    url = f\"https://api.openai.com/v1/engines/{engine}/completions\"\n",
        "\n",
        "    # Headers for the API request\n",
        "    headers = {\n",
        "        'Authorization': 'Bearer sk-',  # replace 'YOUR_OPENAI_API_KEY' with your actual key\n",
        "        'Content-Type': 'application/json',\n",
        "        'User-Agent': 'OpenAI Python Client'\n",
        "    }\n",
        "\n",
        "    # Data payload for the post request\n",
        "    data = {\n",
        "        'prompt': prompt,\n",
        "        'max_tokens': max_tokens\n",
        "    }\n",
        "\n",
        "    # Making the POST request\n",
        "    response = requests.post(url, headers=headers, data=json.dumps(data))\n",
        "\n",
        "    # Parsing the response and returning the completion\n",
        "    if response.status_code == 200:\n",
        "        return response.json()['choices'][0]['text'].strip()\n",
        "    else:\n",
        "        return f\"Error: {response.status_code}\"\n",
        "\n"
      ],
      "metadata": {
        "id": "S6AFiLACfuco"
      },
      "execution_count": null,
      "outputs": []
    },
    {
      "cell_type": "code",
      "source": [
        "response = call_openai_api(\"What is the capital of France?\")\n",
        "print(response)  # This should print \"Paris\"."
      ],
      "metadata": {
        "colab": {
          "base_uri": "https://localhost:8080/"
        },
        "id": "F2avZE9ZgSoz",
        "outputId": "dc81bb96-b53b-4f4d-878e-66fddf4e2027"
      },
      "execution_count": null,
      "outputs": [
        {
          "output_type": "stream",
          "name": "stdout",
          "text": [
            "Paris.\n",
            "\n",
            "What is the most populated city in France?\n",
            "\n",
            "Amiens.\n",
            "\n",
            "What is the official language of France?\n",
            "\n",
            "French.\n",
            "\n",
            "What is the official website of France?\n",
            "\n",
            "www.france.fr.\n",
            "\n",
            "What is the political status of France?\n",
            "\n",
            "Federal republic.\n",
            "\n",
            "What is the transportation in France?\n",
            "\n",
            "Rail, subway, trams, and bus.\n",
            "\n",
            "What is the shape of France?\n",
            "\n",
            "Located in western Europe covering 2,795,695 square kilometers.\n",
            "\n",
            "Where is France located?\n",
            "\n",
            "Southwestern Europe shares border with Germany to the east, with Netherlands, Belgium, Luxembourg, and Switzerland to the north; and with Spain and\n"
          ]
        }
      ]
    },
    {
      "cell_type": "code",
      "source": [
        "response = call_openai_api(\"Translate the English phrase 'Hello World' to French.\")\n",
        "print(response)"
      ],
      "metadata": {
        "colab": {
          "base_uri": "https://localhost:8080/"
        },
        "id": "5t7vZYehgX0W",
        "outputId": "769c176f-5e6f-4c6d-ccd8-76e444d676ac"
      },
      "execution_count": null,
      "outputs": [
        {
          "output_type": "stream",
          "name": "stdout",
          "text": [
            "Translate from French to blank=matrix (just announce the source language clearly to avoid confusion with the user by similar phrases in several languages). SUMO website: http://www.translatemedia.ltd.uk/ MyrangeNabx0Executive login has been deactivated by an administrator. Domain owner please send your domain administrat\n",
            "\n",
            "Real estate company - open letter to our future customers Tell your friends about this translation, of course, if you have recommended our agency: Open letter Hello! At¬ length, we have two big retailers, new order, office, shopping center, residential area, started to build, so vandaliсх power (thieves), coffee shop thief to the region. Getting\n"
          ]
        }
      ]
    },
    {
      "cell_type": "code",
      "source": [
        "prompts = [\n",
        "    \"Translate 'Hello' to French.\",\n",
        "    \"Explain the concept of gravity.\",\n",
        "    \"How does photosynthesis work?\"\n",
        "]\n",
        "\n",
        "for p in prompts:\n",
        "    print(f\"Prompt: {p}\")\n",
        "    print(f\"Response: {call_openai_api(p)}\")\n",
        "    print(\"------------\")\n"
      ],
      "metadata": {
        "colab": {
          "base_uri": "https://localhost:8080/"
        },
        "id": "4fK2FSY8kUx6",
        "outputId": "3ac6dd48-d404-48c9-a427-d59c798b3f0e"
      },
      "execution_count": null,
      "outputs": [
        {
          "output_type": "stream",
          "name": "stdout",
          "text": [
            "Prompt: Translate 'Hello' to French.\n",
            "Response: 翻译‘Hello’（为法语。void processRequest(): Callback<http_client>.Param<string>):Instead of explicitly writing out methods and classesfor common use in the business logic layer, youcan instead write out something called a generichandler. When writing bigger applications,writing out all methods with lots of parameterseveryone used out pointlessly creates emptymethods like helloAccessor. If you refactor common functionality to agenerichandler, you can create a method with allthe necessary functionality for a generic usewithin a business method. A generic trek makes it easier when you refactor new functionalityfor old business logic. Like the code generation toolS\n",
            "------------\n",
            "Prompt: Explain the concept of gravity.\n",
            "Response: Then, use RealFlow to simulate how the physical nature of gravity in a fluid explains observations from galaxies or black holes.\n",
            "\n",
            "stimulate\n",
            "\n",
            "Simulate several different astrophysical effects (e.g., tidal braking, a supernova explosion, a black-hole accretion disk) and determine how the dynamics of planetary systems and binary stars can influence the physics of the simulations.\n",
            "\n",
            "credit\n",
            "\n",
            "Wondercore, 2018\n",
            "------------\n",
            "Prompt: How does photosynthesis work?\n",
            "Response: •\n",
            "\n",
            "What are the parts involved in photosynthesis?\n",
            "\n",
            "• A photosynthetic plant uses sunlight to produce food for itself. Without the ability to do photosynthesis, plants could not make food to grow or to aid in growth.\n",
            "\n",
            "• Photosynthesis is a chemical reaction that occurs in plants, turning light energy into stored energy.\n",
            "\n",
            "• It takes place in the chloroplasts in plant cells. These chloroplasts are membrane-bound sacs containing organic molecules.\n",
            "\n",
            "• Photosystems are groups of proteins and coenzymes used for photosynthesis. There are two photosystems — I and II — that each give off a different photon.\n",
            "\n",
            "• Pigments are organic compounds found in chlor\n",
            "------------\n"
          ]
        }
      ]
    },
    {
      "cell_type": "markdown",
      "source": [
        "# Story Completion:\n",
        "\n",
        "Let's say we have the start of a story, and want to see how it ends. We could use the function to generate the rest of the story."
      ],
      "metadata": {
        "id": "qzBQZGkuqUIl"
      }
    },
    {
      "cell_type": "code",
      "source": [
        "story_prompt = \"Once upon a time, in a faraway kingdom, there was a dragon who couldn't breathe fire.\"\n",
        "story_completion = call_openai_api(story_prompt, max_tokens=100)\n",
        "print(story_completion)"
      ],
      "metadata": {
        "colab": {
          "base_uri": "https://localhost:8080/"
        },
        "id": "NxWFN5TFkm9X",
        "outputId": "800bbf2f-6e67-4eea-9262-6bb90d8f44b9"
      },
      "execution_count": null,
      "outputs": [
        {
          "output_type": "stream",
          "name": "stdout",
          "text": [
            "He was mocked and teased daily by all his friends and parents. As you know, it is every dragon's fundamental right to be able to breathe fire, and it is a great cause for Dragon Pride when one is unable to do so. The great pride of his parents only increased the shame of the small dragon. Though they loved their son with all they had, he couldn't help feeling as if he were rejected, and at a young age felt like no one would ever accept him.\n"
          ]
        }
      ]
    },
    {
      "cell_type": "markdown",
      "source": [
        "# Question Answering:\n",
        " We can use the function to answer questions. For example, if we're curious about a specific fact or piece of information, we could ask a question."
      ],
      "metadata": {
        "id": "G3wv__k1qpY1"
      }
    },
    {
      "cell_type": "code",
      "source": [
        "question = \"What are the benefits of drinking water?\"\n",
        "answer = call_openai_api(question, max_tokens=50)\n",
        "print(answer)"
      ],
      "metadata": {
        "colab": {
          "base_uri": "https://localhost:8080/"
        },
        "id": "U6WgwXmwqbIF",
        "outputId": "53afdc62-0977-4c40-d34e-997a5e3749bb"
      },
      "execution_count": null,
      "outputs": [
        {
          "output_type": "stream",
          "name": "stdout",
          "text": [
            "Some benefits of drinking water include:\n",
            "\n",
            "1) Water flushes and transports waste from the body\n",
            "\n",
            "Simply as a by-product of moving your body, water helps to chase away toxins and potentially harmful wastes.\n",
            "\n",
            "2)\n"
          ]
        }
      ]
    },
    {
      "cell_type": "markdown",
      "source": [
        "# Poem Generation:\n",
        "\n",
        "We can even use the function to get creative with poetry."
      ],
      "metadata": {
        "id": "_na4jNNeq1T_"
      }
    },
    {
      "cell_type": "code",
      "source": [
        "poem_prompt = \"Compose a short poem about the sunset.\"\n",
        "poem = call_openai_api(poem_prompt, max_tokens=50)\n",
        "print(poem)"
      ],
      "metadata": {
        "colab": {
          "base_uri": "https://localhost:8080/"
        },
        "id": "gVwfG47Kqv33",
        "outputId": "e30bb041-b4a3-4262-eb60-4747c959de37"
      },
      "execution_count": null,
      "outputs": [
        {
          "output_type": "stream",
          "name": "stdout",
          "text": [
            "Possible Language Points\n",
            "\n",
            "\n",
            "\n",
            "Use a rhyme sheet for the words Moor/More/ declended/decline\n",
            "\n",
            "Use the correct form of verbs with “to be”.\n",
            "\n",
            "enjoy/enjoyed\n"
          ]
        }
      ]
    }
  ]
}